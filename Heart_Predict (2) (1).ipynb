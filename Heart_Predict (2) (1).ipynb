{
 "cells": [
  {
   "cell_type": "code",
   "execution_count": 1,
   "id": "91326d9d-8ecc-40b7-bddb-1efee3d3cc3f",
   "metadata": {},
   "outputs": [],
   "source": [
    "url=\"https://archive.ics.uci.edu/dataset/45/heart+disease\""
   ]
  },
  {
   "cell_type": "code",
   "execution_count": 4,
   "id": "e48580b2-60fa-4e99-a68d-fe757687bf29",
   "metadata": {},
   "outputs": [
    {
     "ename": "ERROR",
     "evalue": "Error in library(janitor): there is no package called ‘janitor’\n",
     "output_type": "error",
     "traceback": [
      "Error in library(janitor): there is no package called ‘janitor’\nTraceback:\n",
      "1. library(janitor)"
     ]
    }
   ],
   "source": [
    "library(tidyverse)\n",
    "library(repr)\n",
    "library(tidymodels)\n",
    "library(janitor)"
   ]
  },
  {
   "cell_type": "markdown",
   "id": "5c040ccb-d763-4adb-94a1-a878dccffbbb",
   "metadata": {},
   "source": [
    "#  Presence of heart disease of patients in Cleveland, Ohio"
   ]
  },
  {
   "cell_type": "markdown",
   "id": "6753747d-cf8e-4c75-b617-394a03e4c0e4",
   "metadata": {},
   "source": [
    "## Introduction"
   ]
  },
  {
   "cell_type": "markdown",
   "id": "dee0f0d3-cf84-4633-8e1c-e25dce56c0f0",
   "metadata": {
    "tags": []
   },
   "source": [
    "Heart disease is the leading cause of death in the United States, and one of every five deaths in the United States can be attributed to heart disease (Multiple Cause of Death Data on CDC WONDER, n.d.). This makes the quick and accurate diagnosis of heart disease an extremely important topic of study. In 1989, a probability algorithm was created for the diagnosis of coronary artery disease (Detrano et al., 1989). In their report, they tested their algorithm on the test results of 303 patients from the Cleveland Clinic. \n",
    "Here, we will use two criteria commonly associated with heart disease to predict the presence of it in the sample group of patients.  Cholesterol levels can increase the risk of heart disease and can be easily tested for during routine blood tests, making it an important variable to predict the presence of heart disease (High Cholesterol - Symptoms and Causes - Mayo Clinic, n.d.). The second variable we chose was resting blood pressure. High blood pressure, also known as hypertension can lead to heart disease and can be easily tested at home or during regular checkups (CDC, 2023). \n",
    "Using these two routinely checked variables, we will determine if the presence of heart disease can be predicted in patients in Cleveland, Ohio using the method of classification.\n",
    "The heart disease dataset that will be used in our analysis has a sample size of 303 patients, and has 14 variables. However, as mentioned previously, we will only be using two variables (cholesterol levels and resting blood pressure) to see if a quick determination of the presence of heart disease can be made through routinely checked criteria. The sample group is patients from Cleaveland Clinic in Ohio. The sample set includes both male and female patients with an average age of 54. (Janosi, 1988). \n"
   ]
  },
  {
   "cell_type": "markdown",
   "id": "73563b95-7352-47c4-b825-b5f7b9a2b109",
   "metadata": {},
   "source": [
    "### Initial Data"
   ]
  },
  {
   "cell_type": "code",
   "execution_count": 3,
   "id": "a6e4f8af-8ae0-46b1-99a6-c8239fd4e08a",
   "metadata": {},
   "outputs": [
    {
     "ename": "ERROR",
     "evalue": "Error in clean_names(main_data_column_2): could not find function \"clean_names\"\n",
     "output_type": "error",
     "traceback": [
      "Error in clean_names(main_data_column_2): could not find function \"clean_names\"\nTraceback:\n"
     ]
    }
   ],
   "source": [
    "set.seed(1234)\n",
    "main_data_column_2 <- read_table(\"cleve.mod\", col_names = c('Age', 'Sex', 'Chest Pain Type', 'Resting Blood Pressure',\n",
    "                                                            'Cholesterol', 'Fasting Blood Sugar <120',\n",
    "                                                        'Resting ECG Reading', 'Max Heart Rate',\n",
    "                                                       'Exercise Induced Angina (TRUE or FALSE)',\n",
    "                                                            'Old Peak', 'Slope', 'Number Of Vessels Coloured', 'thal','Health'), skip = 20)\n",
    "\n",
    "heart_data<-clean_names(main_data_column_2)\n",
    "heart_data <- heart_data |>\n",
    "        mutate(health = as_factor(health))\n",
    "head(heart_data)\n"
   ]
  },
  {
   "cell_type": "markdown",
   "id": "842953d3-b9e5-42c7-8cac-1e40086f3ec3",
   "metadata": {},
   "source": [
    "### Summary Data"
   ]
  },
  {
   "cell_type": "code",
   "execution_count": null,
   "id": "080032c4-1679-452b-adf4-6266b2ed7950",
   "metadata": {},
   "outputs": [],
   "source": [
    "num_obs <- heart_data |>\n",
    "    group_by(health) |>\n",
    "    summarize(counts = n())\n",
    "num_obs\n",
    "\n",
    "predictor_means<-heart_data|>\n",
    "    select(resting_blood_pressure,cholesterol)|>\n",
    "    summarize(across(resting_blood_pressure:cholesterol,mean))\n",
    "predictor_means"
   ]
  },
  {
   "cell_type": "markdown",
   "id": "c5613b72-b285-4f27-9d93-8c7fce3a962a",
   "metadata": {},
   "source": [
    "### Initial Visualization"
   ]
  },
  {
   "cell_type": "code",
   "execution_count": null,
   "id": "c631477c-a5fb-4187-937f-9a23e18569ac",
   "metadata": {},
   "outputs": [],
   "source": [
    "\n",
    "heart_data<-heart_data|>\n",
    "    select(sex,resting_blood_pressure,cholesterol,health)\n",
    "heart_split<-initial_split(heart_data,prop=0.75,strata=health)  \n",
    "heart_train<-training(heart_split)   \n",
    "heart_test<-testing(heart_split)\n",
    "\n",
    "head(heart_train)\n",
    "head(heart_test)\n",
    "\n",
    "heart_plot<-heart_train|>\n",
    "    ggplot(aes(x=resting_blood_pressure,y=cholesterol,color=health))+\n",
    "        geom_point()+\n",
    "        labs(x=\"Resting Blood Pressure \",y=\"Cholesterol\", color=\"Health\")+\n",
    "        theme(text=element_text(size=20))+\n",
    "        ggtitle(\"Cholesterol vs Resting Blood Pressure\")+\n",
    "        facet_grid(.~sex)\n",
    "heart_plot"
   ]
  },
  {
   "cell_type": "markdown",
   "id": "1c71af75-e936-4e78-a559-b0d8abeb7f38",
   "metadata": {},
   "source": [
    "## Methods and Results"
   ]
  },
  {
   "cell_type": "markdown",
   "id": "7df9a966-f23b-4521-b525-4743247fd759",
   "metadata": {},
   "source": [
    "To begin our data analysis, we began by loading the untidy data into our code and proceeded to add column names to our untidy data. After, we decided to clean up our data by compiling it into the correct columns and making sure all the data is correct and is compiled into a readable manner. We then begun to utilize the k-nearest neighbors system to help assist us in finding out if our variables were good predictors of heart disease or not. We did this by utilizing learned methods of creating training and testing data, making a recipe, creating a nearest neighbor function and workflowing it. After finding out the k-nearest neighbor, we then continued and created a plot summarizing and visualizing our data so that everyone can clearly see our findings. Furthermore, we then decided to predict our data and check the accuracy of our data by using the predict and metrics functions to do the respective processes above. Lastly, we checked which K to use by folding our heart data, and check for its accuracy before finishing off with our final graph of comparing healthy and sick patients and their cholesterol and resting blood pressure rates.\n"
   ]
  },
  {
   "cell_type": "code",
   "execution_count": null,
   "id": "f66016ef-fc3f-4045-b3ba-8698d9f76b28",
   "metadata": {},
   "outputs": [],
   "source": [
    "train_counts <- heart_train |>\n",
    "    group_by(health) |>\n",
    "    summarize(n = n()) \n",
    "\n",
    "train_counts"
   ]
  },
  {
   "cell_type": "code",
   "execution_count": null,
   "id": "178463d5-5194-4259-9ab5-b4a8afeab366",
   "metadata": {},
   "outputs": [],
   "source": [
    "heart_recipe<-recipe(health~cholesterol+resting_blood_pressure,data=heart_train)\n",
    "\n",
    "knn_tune <- nearest_neighbor(weight_func = \"rectangular\", neighbors = tune()) |>\n",
    "    set_engine(\"kknn\") |>\n",
    "    set_mode(\"classification\")\n",
    "\n",
    "k_vals<-tibble(neighbors=seq(2,20))\n",
    "\n",
    "yVfold<-vfold_cv(heart_train,v=10,strata = health)\n",
    "\n",
    "knn_results<-workflow()|>\n",
    "  add_recipe(heart_recipe)|>\n",
    "  add_model(knn_tune)|>\n",
    "  tune_grid(resamples=yVfold,grid=k_vals)|>\n",
    "  collect_metrics() \n",
    "head(knn_results)\n"
   ]
  },
  {
   "cell_type": "code",
   "execution_count": null,
   "id": "e613a1ff-bd6e-414f-a3ad-5bd7345717bf",
   "metadata": {},
   "outputs": [],
   "source": [
    "accuracy<-knn_results|>\n",
    "  filter(.metric==\"accuracy\")\n",
    "\n",
    "cross_val_plot <- accuracy|>\n",
    "    ggplot(aes(x = neighbors, y = mean))+\n",
    "        geom_point()+\n",
    "        geom_line()+\n",
    "        labs(x=\"Neighbors\", y = \"Accuracy Estimate\")+ \n",
    "        theme(text=element_text(size=20))\n",
    "cross_val_plot"
   ]
  },
  {
   "cell_type": "code",
   "execution_count": null,
   "id": "ae111099-9af6-45b7-9a24-86e3a8d70426",
   "metadata": {},
   "outputs": [],
   "source": [
    "knn_spec<-nearest_neighbor(weight_func=\"rectangular\",neighbors=10)|>\n",
    "      set_engine(\"kknn\")|>\n",
    "      set_mode(\"classification\")\n",
    "\n",
    "heart_fit<-workflow()|>\n",
    "      add_recipe(heart_recipe)|>\n",
    "      add_model(knn_spec)|>\n",
    "      fit(data=heart_train)\n",
    "heart_fit"
   ]
  },
  {
   "cell_type": "code",
   "execution_count": null,
   "id": "978dc197-03f4-4c2e-bd7d-0f0d2d1e3344",
   "metadata": {},
   "outputs": [],
   "source": [
    "heart_test_predictions<-predict(heart_fit,heart_test)|>\n",
    "    bind_cols(heart_test)\n",
    "head(heart_test_predictions)\n",
    "\n",
    "heart_prediction_accuracy<-heart_test_predictions|>\n",
    "    metrics(truth=health,estimate=.pred_class)|>\n",
    "    filter(.metric == \"accuracy\")\n",
    "head(heart_prediction_accuracy)\n",
    "\n",
    "conf_matrix <- heart_test_predictions |>\n",
    "    conf_mat(truth = health, estimate = .pred_class)\n",
    "conf_matrix"
   ]
  },
  {
   "cell_type": "code",
   "execution_count": null,
   "id": "b6834842-f529-4259-b490-ab3b92667eb1",
   "metadata": {
    "tags": []
   },
   "outputs": [],
   "source": [
    "heart_predict_plot <- heart_test_predictions |>\n",
    "    ggplot(aes(x = resting_blood_pressure, y = cholesterol, color = .pred_class,shape=health)) +\n",
    "    geom_point(size = 3) +\n",
    "    labs(x = \"Resting Blood Pressure\", y = \"Cholesterol\", color = \"Predicted Health\",shape=\"Actual Health\") +\n",
    "    theme(text = element_text(size=15)) +\n",
    "    ggtitle(\"Cholesterol vs Blood Pressure Prediction Results\")\n",
    "heart_predict_plot"
   ]
  },
  {
   "cell_type": "markdown",
   "id": "3874bcdd-afe6-4c30-b5ab-d070b6b6ae92",
   "metadata": {},
   "source": [
    "### Plots of inital data and predicted results"
   ]
  },
  {
   "cell_type": "code",
   "execution_count": null,
   "id": "5c7ee270-c652-490e-a46f-5587f89be4be",
   "metadata": {},
   "outputs": [],
   "source": [
    "heart_data_plot <- heart_data |>\n",
    "    ggplot(aes(x = resting_blood_pressure, y = cholesterol, color = health)) +\n",
    "    geom_point() +\n",
    "    labs(x = \"Resting Blood Pressure\", y = \"Cholesterol\", color = \"Health\") +\n",
    "    theme(text = element_text(size=15)) +\n",
    "    ggtitle(\"Cholesterol vs Resting Blood Pressure \")\n",
    "heart_data_plot\n",
    "\n",
    "heart_predict_plot"
   ]
  },
  {
   "cell_type": "markdown",
   "id": "6fa8565b-e19a-4c4c-941f-b986f557caed",
   "metadata": {},
   "source": [
    "## Discussion"
   ]
  },
  {
   "cell_type": "markdown",
   "id": "36e642e6-604f-48fe-8f03-369695d072cb",
   "metadata": {},
   "source": [
    "Overall, we found that resting blood pressure was not an ideal way of classifying people who are healthy and people who are sick with some form of heart disease. Ultimately, the spread between healthy and sick were simply too close to each other to draw any meaningful conclusions or justifiable assumptions based on the data. This is exhibited by the nearly zero correlation between resting blood pressure and someone’s health status. Furthermore, the difference between male and female data shows little correlation between gender and the increased prevalence of heart disease in either gender. However, it is important to note that very large amount of females who were healthy had a wide range of cholesterol, which is significant as it signifies that cholesterol levels can vary a lot while having little to no impact to someone’s heart health, especially in females. \n",
    "\n",
    "In totality, we definitely were not expecting the results we encountered as we were almost certain that either on their own, or a mixture of both, that cholesterol and blood pressure would have some sort of effect on someone’s heart health. We were rather stunned by the data and its suggestion that resting blood pressure and cholesterol levels, have minimal amount of effect in increasing the risk of people developing some form of heart disease.\n",
    "\n",
    "### Future Questions\n",
    "Are there any variables we are not aware of that may have impacted whether or not the patients had heart disease? It is known that heart disease is inherited, do the patients’ families have any pre existing heart disease history? This variable can introduce factors which could affect the outcome. Smoking is a well-established risk factor for heart disease, and accounting for this variable can enhance the accuracy of the analysis. Additionally, Excessive alcohol intake can contribute to heart-related issues and understanding this variable is crucial for a thorough analysis. Considering these lifestyle and behavioral factors can help identify potential correlations between certain habits and the presence of heart disease. Additionally, it allows for a more holistic approach in understanding the multifaceted nature of cardiovascular health. As these factors are often modifiable, insights gained from their analysis can also inform potential interventions and lifestyle modifications for preventing or managing heart disease.\n"
   ]
  },
  {
   "cell_type": "markdown",
   "id": "d205d23a-3f60-40f7-bb9d-c3c4bcd982c2",
   "metadata": {},
   "source": [
    "## References"
   ]
  },
  {
   "cell_type": "markdown",
   "id": "8f566011-187b-40eb-9bee-4bee89cbf7c1",
   "metadata": {},
   "source": [
    "Janosi, Andras, Steinbrunn,William, Pfisterer,Matthias, and Detrano,Robert. (1988). Heart Disease. UCI Machine Learning Repository. https://doi.org/10.24432/C52P4X.\n",
    "\n",
    "CDC. (2023, August 29). High Blood Pressure Symptoms, Causes, and Problems | cdc.gov. Centers for Disease Control and Prevention. https://www.cdc.gov/bloodpressure/about.htm\n",
    "\n",
    "Detrano, R., Janosi, A., Steinbrunn, W., Pfisterer, M., Schmid, J.-J., Sandhu, S., Guppy, K. H., Lee, S., & Froelicher, V. (1989). International application of a new probability algorithm for the diagnosis of coronary artery disease. The American Journal of Cardiology, 64(5), 304–310. https://doi.org/10.1016/0002-9149(89)90524-9\n",
    "\n",
    "High cholesterol—Symptoms and causes—Mayo Clinic. (n.d.). Retrieved December 5, 2023, from https://www.mayoclinic.org/diseases-conditions/high-blood-cholesterol/symptoms-causes/syc-20350800\n",
    "\n",
    "Multiple Cause of Death Data on CDC WONDER. (n.d.). Retrieved December 4, 2023, from https://wonder.cdc.gov/mcd.html"
   ]
  }
 ],
 "metadata": {
  "kernelspec": {
   "display_name": "R",
   "language": "R",
   "name": "ir"
  },
  "language_info": {
   "codemirror_mode": "r",
   "file_extension": ".r",
   "mimetype": "text/x-r-source",
   "name": "R",
   "pygments_lexer": "r",
   "version": "4.2.2"
  }
 },
 "nbformat": 4,
 "nbformat_minor": 5
}

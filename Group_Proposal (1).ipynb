{
 "cells": [
  {
   "cell_type": "code",
   "execution_count": 3,
   "id": "e84f6ac9-1868-4558-8a19-fd057b207755",
   "metadata": {},
   "outputs": [
    {
     "name": "stderr",
     "output_type": "stream",
     "text": [
      "\n",
      "Attaching package: ‘dbplyr’\n",
      "\n",
      "\n",
      "The following objects are masked from ‘package:dplyr’:\n",
      "\n",
      "    ident, sql\n",
      "\n",
      "\n",
      "Warning message in file(filename, \"r\", encoding = encoding):\n",
      "“cannot open file 'tests.R': No such file or directory”\n"
     ]
    },
    {
     "ename": "ERROR",
     "evalue": "Error in file(filename, \"r\", encoding = encoding): cannot open the connection\n",
     "output_type": "error",
     "traceback": [
      "Error in file(filename, \"r\", encoding = encoding): cannot open the connection\nTraceback:\n",
      "1. source(\"tests.R\")",
      "2. file(filename, \"r\", encoding = encoding)"
     ]
    }
   ],
   "source": [
    "library(tidyverse)\n",
    "library(repr)\n",
    "library(dbplyr)\n",
    "library(tidymodels)\n",
    "library(DBI)\n",
    "library(purrr)\n",
    "options(repr.matrix.max.rows = 6)\n",
    "source(\"tests.R\")\n",
    "source('cleanup.R')"
   ]
  },
  {
   "cell_type": "code",
   "execution_count": 22,
   "id": "1b938a12-3fc4-491e-afbe-e11697b06a0a",
   "metadata": {},
   "outputs": [
    {
     "name": "stderr",
     "output_type": "stream",
     "text": [
      "Warning message:\n",
      "“\u001b[1m\u001b[22mOne or more parsing issues, call `problems()` on your data frame for details,\n",
      "e.g.:\n",
      "  dat <- vroom(...)\n",
      "  problems(dat)”\n",
      "\u001b[1mRows: \u001b[22m\u001b[34m303\u001b[39m \u001b[1mColumns: \u001b[22m\u001b[34m19\u001b[39m\n",
      "\u001b[36m──\u001b[39m \u001b[1mColumn specification\u001b[22m \u001b[36m────────────────────────────────────────────────────────\u001b[39m\n",
      "\u001b[1mDelimiter:\u001b[22m \" \"\n",
      "\u001b[31mchr\u001b[39m (17): X2, X3, X4, X6, X7, X8, X9, X10, X11, X12, X13, X14, X15, X16, X17...\n",
      "\u001b[32mdbl\u001b[39m  (2): X1, X5\n",
      "\n",
      "\u001b[36mℹ\u001b[39m Use `spec()` to retrieve the full column specification for this data.\n",
      "\u001b[36mℹ\u001b[39m Specify the column types or set `show_col_types = FALSE` to quiet this message.\n"
     ]
    },
    {
     "data": {
      "text/html": [
       "<table class=\"dataframe\">\n",
       "<caption>A spec_tbl_df: 303 × 19</caption>\n",
       "<thead>\n",
       "\t<tr><th scope=col>X1</th><th scope=col>X2</th><th scope=col>X3</th><th scope=col>X4</th><th scope=col>X5</th><th scope=col>X6</th><th scope=col>X7</th><th scope=col>X8</th><th scope=col>X9</th><th scope=col>X10</th><th scope=col>X11</th><th scope=col>X12</th><th scope=col>X13</th><th scope=col>X14</th><th scope=col>X15</th><th scope=col>X16</th><th scope=col>X17</th><th scope=col>X18</th><th scope=col>X19</th></tr>\n",
       "\t<tr><th scope=col>&lt;dbl&gt;</th><th scope=col>&lt;chr&gt;</th><th scope=col>&lt;chr&gt;</th><th scope=col>&lt;chr&gt;</th><th scope=col>&lt;dbl&gt;</th><th scope=col>&lt;chr&gt;</th><th scope=col>&lt;chr&gt;</th><th scope=col>&lt;chr&gt;</th><th scope=col>&lt;chr&gt;</th><th scope=col>&lt;chr&gt;</th><th scope=col>&lt;chr&gt;</th><th scope=col>&lt;chr&gt;</th><th scope=col>&lt;chr&gt;</th><th scope=col>&lt;chr&gt;</th><th scope=col>&lt;chr&gt;</th><th scope=col>&lt;chr&gt;</th><th scope=col>&lt;chr&gt;</th><th scope=col>&lt;chr&gt;</th><th scope=col>&lt;chr&gt;</th></tr>\n",
       "</thead>\n",
       "<tbody>\n",
       "\t<tr><td>63</td><td>male</td><td>angina</td><td>145.0</td><td>233</td><td>true</td><td>NA</td><td>hyp</td><td>150.0</td><td>fal  </td><td>NA  </td><td>2.3</td><td>down</td><td>0.0</td><td>NA  </td><td>fix </td><td>buff</td><td>NA</td><td>H </td></tr>\n",
       "\t<tr><td>67</td><td>male</td><td>asympt</td><td>160.0</td><td>286</td><td>fal </td><td>NA</td><td>NA </td><td>hyp  </td><td>108.0</td><td>true</td><td>1.5</td><td>flat</td><td>3.0</td><td>norm</td><td>sick</td><td>S2  </td><td>NA</td><td>NA</td></tr>\n",
       "\t<tr><td>67</td><td>male</td><td>asympt</td><td>120.0</td><td>229</td><td>fal </td><td>NA</td><td>NA </td><td>hyp  </td><td>129.0</td><td>true</td><td>2.6</td><td>flat</td><td>2.0</td><td>NA  </td><td>rev </td><td>sick</td><td>S1</td><td>NA</td></tr>\n",
       "\t<tr><td>⋮</td><td>⋮</td><td>⋮</td><td>⋮</td><td>⋮</td><td>⋮</td><td>⋮</td><td>⋮</td><td>⋮</td><td>⋮</td><td>⋮</td><td>⋮</td><td>⋮</td><td>⋮</td><td>⋮</td><td>⋮</td><td>⋮</td><td>⋮</td><td>⋮</td></tr>\n",
       "\t<tr><td>49</td><td>male</td><td>notang</td><td>118.0 </td><td>149</td><td>fal  </td><td>NA </td><td>NA</td><td>hyp </td><td>126.0</td><td>fal  </td><td>NA  </td><td>0.8</td><td>NA</td><td>NA</td><td>up</td><td>3.0</td><td>norm</td><td>sick S1</td></tr>\n",
       "\t<tr><td>74</td><td>NA  </td><td>fem   </td><td>abnang</td><td>120</td><td>269.0</td><td>fal</td><td>NA</td><td>NA  </td><td>hyp  </td><td>121.0</td><td>true</td><td>0.2</td><td>NA</td><td>NA</td><td>up</td><td>1.0</td><td>norm</td><td>buff  H</td></tr>\n",
       "\t<tr><td>54</td><td>NA  </td><td>fem   </td><td>notang</td><td>160</td><td>201.0</td><td>fal</td><td>NA</td><td>norm</td><td>163.0</td><td>fal  </td><td>NA  </td><td>0.0</td><td>NA</td><td>NA</td><td>up</td><td>1.0</td><td>norm</td><td>buff  H</td></tr>\n",
       "</tbody>\n",
       "</table>\n"
      ],
      "text/latex": [
       "A spec\\_tbl\\_df: 303 × 19\n",
       "\\begin{tabular}{lllllllllllllllllll}\n",
       " X1 & X2 & X3 & X4 & X5 & X6 & X7 & X8 & X9 & X10 & X11 & X12 & X13 & X14 & X15 & X16 & X17 & X18 & X19\\\\\n",
       " <dbl> & <chr> & <chr> & <chr> & <dbl> & <chr> & <chr> & <chr> & <chr> & <chr> & <chr> & <chr> & <chr> & <chr> & <chr> & <chr> & <chr> & <chr> & <chr>\\\\\n",
       "\\hline\n",
       "\t 63 & male & angina & 145.0 & 233 & true & NA & hyp & 150.0 & fal   & NA   & 2.3 & down & 0.0 & NA   & fix  & buff & NA & H \\\\\n",
       "\t 67 & male & asympt & 160.0 & 286 & fal  & NA & NA  & hyp   & 108.0 & true & 1.5 & flat & 3.0 & norm & sick & S2   & NA & NA\\\\\n",
       "\t 67 & male & asympt & 120.0 & 229 & fal  & NA & NA  & hyp   & 129.0 & true & 2.6 & flat & 2.0 & NA   & rev  & sick & S1 & NA\\\\\n",
       "\t ⋮ & ⋮ & ⋮ & ⋮ & ⋮ & ⋮ & ⋮ & ⋮ & ⋮ & ⋮ & ⋮ & ⋮ & ⋮ & ⋮ & ⋮ & ⋮ & ⋮ & ⋮ & ⋮\\\\\n",
       "\t 49 & male & notang & 118.0  & 149 & fal   & NA  & NA & hyp  & 126.0 & fal   & NA   & 0.8 & NA & NA & up & 3.0 & norm & sick S1\\\\\n",
       "\t 74 & NA   & fem    & abnang & 120 & 269.0 & fal & NA & NA   & hyp   & 121.0 & true & 0.2 & NA & NA & up & 1.0 & norm & buff  H\\\\\n",
       "\t 54 & NA   & fem    & notang & 160 & 201.0 & fal & NA & norm & 163.0 & fal   & NA   & 0.0 & NA & NA & up & 1.0 & norm & buff  H\\\\\n",
       "\\end{tabular}\n"
      ],
      "text/markdown": [
       "\n",
       "A spec_tbl_df: 303 × 19\n",
       "\n",
       "| X1 &lt;dbl&gt; | X2 &lt;chr&gt; | X3 &lt;chr&gt; | X4 &lt;chr&gt; | X5 &lt;dbl&gt; | X6 &lt;chr&gt; | X7 &lt;chr&gt; | X8 &lt;chr&gt; | X9 &lt;chr&gt; | X10 &lt;chr&gt; | X11 &lt;chr&gt; | X12 &lt;chr&gt; | X13 &lt;chr&gt; | X14 &lt;chr&gt; | X15 &lt;chr&gt; | X16 &lt;chr&gt; | X17 &lt;chr&gt; | X18 &lt;chr&gt; | X19 &lt;chr&gt; |\n",
       "|---|---|---|---|---|---|---|---|---|---|---|---|---|---|---|---|---|---|---|\n",
       "| 63 | male | angina | 145.0 | 233 | true | NA | hyp | 150.0 | fal   | NA   | 2.3 | down | 0.0 | NA   | fix  | buff | NA | H  |\n",
       "| 67 | male | asympt | 160.0 | 286 | fal  | NA | NA  | hyp   | 108.0 | true | 1.5 | flat | 3.0 | norm | sick | S2   | NA | NA |\n",
       "| 67 | male | asympt | 120.0 | 229 | fal  | NA | NA  | hyp   | 129.0 | true | 2.6 | flat | 2.0 | NA   | rev  | sick | S1 | NA |\n",
       "| ⋮ | ⋮ | ⋮ | ⋮ | ⋮ | ⋮ | ⋮ | ⋮ | ⋮ | ⋮ | ⋮ | ⋮ | ⋮ | ⋮ | ⋮ | ⋮ | ⋮ | ⋮ | ⋮ |\n",
       "| 49 | male | notang | 118.0  | 149 | fal   | NA  | NA | hyp  | 126.0 | fal   | NA   | 0.8 | NA | NA | up | 3.0 | norm | sick S1 |\n",
       "| 74 | NA   | fem    | abnang | 120 | 269.0 | fal | NA | NA   | hyp   | 121.0 | true | 0.2 | NA | NA | up | 1.0 | norm | buff  H |\n",
       "| 54 | NA   | fem    | notang | 160 | 201.0 | fal | NA | norm | 163.0 | fal   | NA   | 0.0 | NA | NA | up | 1.0 | norm | buff  H |\n",
       "\n"
      ],
      "text/plain": [
       "    X1 X2   X3     X4     X5  X6    X7  X8  X9    X10   X11   X12  X13  X14\n",
       "1   63 male angina 145.0  233 true  NA  hyp 150.0 fal   NA    2.3  down 0.0\n",
       "2   67 male asympt 160.0  286 fal   NA  NA  hyp   108.0 true  1.5  flat 3.0\n",
       "3   67 male asympt 120.0  229 fal   NA  NA  hyp   129.0 true  2.6  flat 2.0\n",
       "⋮   ⋮  ⋮    ⋮      ⋮      ⋮   ⋮     ⋮   ⋮   ⋮     ⋮     ⋮     ⋮    ⋮    ⋮  \n",
       "301 49 male notang 118.0  149 fal   NA  NA  hyp   126.0 fal   NA   0.8  NA \n",
       "302 74 NA   fem    abnang 120 269.0 fal NA  NA    hyp   121.0 true 0.2  NA \n",
       "303 54 NA   fem    notang 160 201.0 fal NA  norm  163.0 fal   NA   0.0  NA \n",
       "    X15  X16  X17  X18  X19    \n",
       "1   NA   fix  buff NA   H      \n",
       "2   norm sick S2   NA   NA     \n",
       "3   NA   rev  sick S1   NA     \n",
       "⋮   ⋮    ⋮    ⋮    ⋮    ⋮      \n",
       "301 NA   up   3.0  norm sick S1\n",
       "302 NA   up   1.0  norm buff  H\n",
       "303 NA   up   1.0  norm buff  H"
      ]
     },
     "metadata": {},
     "output_type": "display_data"
    }
   ],
   "source": [
    "read_delim(\"data/cleve.mod\", delim = \" \", col_names = FALSE, skip = 20)\n",
    "\n"
   ]
  },
  {
   "cell_type": "code",
   "execution_count": null,
   "id": "dc2cb08d-5cc8-4de6-b137-c9235aee7fe1",
   "metadata": {},
   "outputs": [],
   "source": []
  }
 ],
 "metadata": {
  "kernelspec": {
   "display_name": "R",
   "language": "R",
   "name": "ir"
  },
  "language_info": {
   "codemirror_mode": "r",
   "file_extension": ".r",
   "mimetype": "text/x-r-source",
   "name": "R",
   "pygments_lexer": "r",
   "version": "4.3.1"
  }
 },
 "nbformat": 4,
 "nbformat_minor": 5
}

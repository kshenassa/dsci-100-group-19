{
 "cells": [
  {
   "cell_type": "code",
   "execution_count": 1,
   "id": "e48580b2-60fa-4e99-a68d-fe757687bf29",
   "metadata": {},
   "outputs": [
    {
     "name": "stderr",
     "output_type": "stream",
     "text": [
      "── \u001b[1mAttaching packages\u001b[22m ─────────────────────────────────────── tidyverse 1.3.2 ──\n",
      "\u001b[32m✔\u001b[39m \u001b[34mggplot2\u001b[39m 3.4.2     \u001b[32m✔\u001b[39m \u001b[34mpurrr  \u001b[39m 1.0.1\n",
      "\u001b[32m✔\u001b[39m \u001b[34mtibble \u001b[39m 3.2.1     \u001b[32m✔\u001b[39m \u001b[34mdplyr  \u001b[39m 1.1.1\n",
      "\u001b[32m✔\u001b[39m \u001b[34mtidyr  \u001b[39m 1.3.0     \u001b[32m✔\u001b[39m \u001b[34mstringr\u001b[39m 1.5.0\n",
      "\u001b[32m✔\u001b[39m \u001b[34mreadr  \u001b[39m 2.1.3     \u001b[32m✔\u001b[39m \u001b[34mforcats\u001b[39m 0.5.2\n",
      "── \u001b[1mConflicts\u001b[22m ────────────────────────────────────────── tidyverse_conflicts() ──\n",
      "\u001b[31m✖\u001b[39m \u001b[34mdplyr\u001b[39m::\u001b[32mfilter()\u001b[39m masks \u001b[34mstats\u001b[39m::filter()\n",
      "\u001b[31m✖\u001b[39m \u001b[34mdplyr\u001b[39m::\u001b[32mlag()\u001b[39m    masks \u001b[34mstats\u001b[39m::lag()\n",
      "── \u001b[1mAttaching packages\u001b[22m ────────────────────────────────────── tidymodels 1.0.0 ──\n",
      "\n",
      "\u001b[32m✔\u001b[39m \u001b[34mbroom       \u001b[39m 1.0.2     \u001b[32m✔\u001b[39m \u001b[34mrsample     \u001b[39m 1.1.1\n",
      "\u001b[32m✔\u001b[39m \u001b[34mdials       \u001b[39m 1.1.0     \u001b[32m✔\u001b[39m \u001b[34mtune        \u001b[39m 1.0.1\n",
      "\u001b[32m✔\u001b[39m \u001b[34minfer       \u001b[39m 1.0.4     \u001b[32m✔\u001b[39m \u001b[34mworkflows   \u001b[39m 1.1.2\n",
      "\u001b[32m✔\u001b[39m \u001b[34mmodeldata   \u001b[39m 1.0.1     \u001b[32m✔\u001b[39m \u001b[34mworkflowsets\u001b[39m 1.0.0\n",
      "\u001b[32m✔\u001b[39m \u001b[34mparsnip     \u001b[39m 1.0.3     \u001b[32m✔\u001b[39m \u001b[34myardstick   \u001b[39m 1.1.0\n",
      "\u001b[32m✔\u001b[39m \u001b[34mrecipes     \u001b[39m 1.0.4     \n",
      "\n",
      "── \u001b[1mConflicts\u001b[22m ───────────────────────────────────────── tidymodels_conflicts() ──\n",
      "\u001b[31m✖\u001b[39m \u001b[34mscales\u001b[39m::\u001b[32mdiscard()\u001b[39m masks \u001b[34mpurrr\u001b[39m::discard()\n",
      "\u001b[31m✖\u001b[39m \u001b[34mdplyr\u001b[39m::\u001b[32mfilter()\u001b[39m   masks \u001b[34mstats\u001b[39m::filter()\n",
      "\u001b[31m✖\u001b[39m \u001b[34mrecipes\u001b[39m::\u001b[32mfixed()\u001b[39m  masks \u001b[34mstringr\u001b[39m::fixed()\n",
      "\u001b[31m✖\u001b[39m \u001b[34mdplyr\u001b[39m::\u001b[32mlag()\u001b[39m      masks \u001b[34mstats\u001b[39m::lag()\n",
      "\u001b[31m✖\u001b[39m \u001b[34myardstick\u001b[39m::\u001b[32mspec()\u001b[39m masks \u001b[34mreadr\u001b[39m::spec()\n",
      "\u001b[31m✖\u001b[39m \u001b[34mrecipes\u001b[39m::\u001b[32mstep()\u001b[39m   masks \u001b[34mstats\u001b[39m::step()\n",
      "\u001b[34m•\u001b[39m Learn how to get started at \u001b[32mhttps://www.tidymodels.org/start/\u001b[39m\n",
      "\n"
     ]
    },
    {
     "ename": "ERROR",
     "evalue": "Error in library(janitor): there is no package called ‘janitor’\n",
     "output_type": "error",
     "traceback": [
      "Error in library(janitor): there is no package called ‘janitor’\nTraceback:\n",
      "1. library(janitor)"
     ]
    }
   ],
   "source": [
    "library(tidyverse)\n",
    "library(repr)\n",
    "library(tidymodels)\n",
    "library(janitor)"
   ]
  },
  {
   "cell_type": "markdown",
   "id": "3305c85b-dc48-4a0e-a46c-02249658bf79",
   "metadata": {},
   "source": [
    "#  Presence of heart disease of patients in Cleveland, Ohio"
   ]
  },
  {
   "cell_type": "markdown",
   "id": "25a0cbc5-36c3-4f8b-8b3a-22a5f6f4e491",
   "metadata": {
    "tags": []
   },
   "source": [
    " ## Introduction"
   ]
  },
  {
   "cell_type": "markdown",
   "id": "8dcb7810-1d19-4de1-9525-687acb160222",
   "metadata": {},
   "source": [
    "Heart disease is the leading cause of death in the United States, and one of every five deaths in the United States can be attributed to heart disease (Multiple Cause of Death Data on CDC WONDER, n.d.). This makes the quick and accurate diagnosis of heart disease an extremely important topic of study. In 1989, a probability algorithm was created for the diagnosis of coronary artery disease (Detrano et al., 1989). In their report, they tested their algorithm on the test results of 303 patients from the Cleveland Clinic. We will be trying to predict the presence of heard disease of patients in Cleaveland, Ohio using cholesterol levels and resting blood pressure."
   ]
  },
  {
   "cell_type": "code",
   "execution_count": 2,
   "id": "a6e4f8af-8ae0-46b1-99a6-c8239fd4e08a",
   "metadata": {},
   "outputs": [
    {
     "name": "stderr",
     "output_type": "stream",
     "text": [
      "\n",
      "\u001b[36m──\u001b[39m \u001b[1mColumn specification\u001b[22m \u001b[36m────────────────────────────────────────────────────────\u001b[39m\n",
      "cols(\n",
      "  Age = \u001b[31mcol_character()\u001b[39m,\n",
      "  Sex = \u001b[31mcol_character()\u001b[39m,\n",
      "  `Chest Pain Type` = \u001b[31mcol_character()\u001b[39m,\n",
      "  `Resting Blood Pressure` = \u001b[31mcol_character()\u001b[39m,\n",
      "  Cholesterol = \u001b[31mcol_character()\u001b[39m,\n",
      "  `Fasting Blood Sugar <120` = \u001b[31mcol_character()\u001b[39m,\n",
      "  `Resting ECG Reading` = \u001b[31mcol_character()\u001b[39m,\n",
      "  `Max Heart Rate` = \u001b[31mcol_character()\u001b[39m,\n",
      "  `Exercise Induced Angina (TRUE or FALSE)` = \u001b[31mcol_character()\u001b[39m,\n",
      "  `Old Peak` = \u001b[31mcol_character()\u001b[39m,\n",
      "  Slope = \u001b[31mcol_character()\u001b[39m,\n",
      "  `Number Of Vessels Coloured` = \u001b[31mcol_character()\u001b[39m,\n",
      "  thal = \u001b[31mcol_character()\u001b[39m,\n",
      "  Health = \u001b[31mcol_character()\u001b[39m\n",
      ")\n",
      "\n",
      "Warning message:\n",
      "“312 parsing failures.\n",
      "row col   expected     actual                                                   file\n",
      "  1  -- 14 columns 3 columns  'https://archive.ics.uci.edu/dataset/45/heart+disease'\n",
      "  2  -- 14 columns 3 columns  'https://archive.ics.uci.edu/dataset/45/heart+disease'\n",
      "  3  -- 14 columns 3 columns  'https://archive.ics.uci.edu/dataset/45/heart+disease'\n",
      "  4  -- 14 columns 3 columns  'https://archive.ics.uci.edu/dataset/45/heart+disease'\n",
      "  5  -- 14 columns 15 columns 'https://archive.ics.uci.edu/dataset/45/heart+disease'\n",
      "... ... .......... .......... ......................................................\n",
      "See problems(...) for more details.\n",
      "”\n"
     ]
    },
    {
     "ename": "ERROR",
     "evalue": "Error in clean_names(main_data_column_2): could not find function \"clean_names\"\n",
     "output_type": "error",
     "traceback": [
      "Error in clean_names(main_data_column_2): could not find function \"clean_names\"\nTraceback:\n"
     ]
    }
   ],
   "source": [
    "url <- \"https://archive.ics.uci.edu/dataset/45/heart+disease\"\n",
    "main_data_column_2 <- read_table(url, col_names = c('Age', 'Sex', 'Chest Pain Type', 'Resting Blood Pressure',\n",
    "                                                            'Cholesterol', 'Fasting Blood Sugar <120',\n",
    "                                                        'Resting ECG Reading', 'Max Heart Rate',\n",
    "                                                       'Exercise Induced Angina (TRUE or FALSE)',\n",
    "                                                            'Old Peak', 'Slope', 'Number Of Vessels Coloured', 'thal','Health'), skip = 20)\n",
    "\n",
    "heart_data<-clean_names(main_data_column_2)\n",
    "heart_data <- heart_data |>\n",
    "        mutate(health = as_factor(health))\n",
    "heart_data\n"
   ]
  },
  {
   "cell_type": "code",
   "execution_count": null,
   "id": "ab7e7351-9bf1-4636-998b-e2ba7e098892",
   "metadata": {},
   "outputs": [],
   "source": []
  },
  {
   "cell_type": "code",
   "execution_count": null,
   "id": "abe7d1a2-f40b-4397-b062-ddaa17c78526",
   "metadata": {},
   "outputs": [],
   "source": [
    "\n",
    "#Heart K nearest neighbors\n",
    "heart_data<-heart_data|>\n",
    "    select(sex,resting_blood_pressure,cholesterol,health)\n",
    "heart_split<-initial_split(heart_data,prop=0.75,strata=health)  \n",
    "heart_train<-training(heart_split)   \n",
    "heart_test<-testing(heart_split)\n",
    "\n",
    "heart_recipe<-recipe(health~cholesterol+resting_blood_pressure,data=heart_train)|>\n",
    "   step_scale(all_predictors())|>\n",
    "   step_center(all_predictors())\n",
    "\n",
    "knn_spec<-nearest_neighbor(weight_func=\"rectangular\",neighbors=12)|>\n",
    "      set_engine(\"kknn\")|>\n",
    "      set_mode(\"classification\")\n",
    "\n",
    "heart_fit<-workflow()|>\n",
    "      add_recipe(heart_recipe)|>\n",
    "      add_model(knn_spec)|>\n",
    "      fit(data=heart_train)\n",
    "#Heart training data\n",
    "head(heart_train)\n",
    "\n",
    "#Heart training data plot\n",
    "heart_plot<-heart_train|>\n",
    "    ggplot(aes(x=resting_blood_pressure,y=cholesterol,color=health))+\n",
    "    geom_point()+\n",
    "    labs(x=\"Resting Blood Pressure \",y=\"Cholesterol\", color=\"Health\")+\n",
    "    theme(text=element_text(size=20))+\n",
    "    ggtitle(\"Cholesterol vs Resting Blood Pressure\")+\n",
    "    facet_grid(.~sex)\n",
    "heart_plot\n",
    "\n",
    "\n",
    "#Predictions\n",
    "heart_test_predictions<-predict(heart_fit,heart_test)|>\n",
    "      bind_cols(heart_test)\n",
    "head(heart_test_predictions)\n",
    "\n",
    "#Accuracy\n",
    "heart_prediction_accuracy<-heart_test_predictions|>\n",
    "        metrics(truth=health,estimate=.pred_class)   \n",
    "heart_prediction_accuracy\n",
    "\n",
    "\n",
    "\n",
    "\n",
    "#Which K to use \n",
    "predictionSpec<-nearest_neighbor(weight_func=\"rectangular\",neighbors=tune())|>\n",
    "                              set_engine(\"kknn\")|>\n",
    "                              set_mode(\"classification\")\n",
    "\n",
    "k_vals<-tibble(neighbors=seq(2,20))\n",
    "\n",
    "yVfold<-vfold_cv(heart_train,v=10,strata = health)\n",
    "\n",
    "knn_results<-workflow()|>\n",
    "  add_recipe(heart_recipe)|>\n",
    "  add_model(predictionSpec)|>\n",
    "  tune_grid(resamples=yVfold,grid=k_vals)|>\n",
    "  collect_metrics() \n",
    "\n",
    "accuracy<-knn_results|>\n",
    "  filter(.metric==\"accuracy\")\n",
    "\n",
    "cross_val_plot <- accuracy|>\n",
    "    ggplot(aes(x = neighbors, y = mean))+\n",
    "        geom_point()+\n",
    "        geom_line()+\n",
    "        labs(x=\"Neighbors\", y = \"Accuracy Estimate\")+ \n",
    "        theme(text=element_text(size=20))\n",
    "#cross_val_plot"
   ]
  },
  {
   "cell_type": "code",
   "execution_count": null,
   "id": "7ad81463-a8f5-40a4-b0a4-eceeba5be9b8",
   "metadata": {},
   "outputs": [],
   "source": []
  },
  {
   "cell_type": "code",
   "execution_count": null,
   "id": "2fa43025-298a-4939-87aa-f1a6bfbcf74e",
   "metadata": {},
   "outputs": [],
   "source": []
  }
 ],
 "metadata": {
  "kernelspec": {
   "display_name": "R",
   "language": "R",
   "name": "ir"
  },
  "language_info": {
   "codemirror_mode": "r",
   "file_extension": ".r",
   "mimetype": "text/x-r-source",
   "name": "R",
   "pygments_lexer": "r",
   "version": "4.2.2"
  }
 },
 "nbformat": 4,
 "nbformat_minor": 5
}
